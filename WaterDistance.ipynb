{
 "cells": [
  {
   "cell_type": "code",
   "execution_count": 1,
   "metadata": {},
   "outputs": [
    {
     "name": "stdout",
     "output_type": "stream",
     "text": [
      " Volume in drive C is OS\n",
      " Volume Serial Number is C855-57FA\n",
      "\n",
      " Directory of C:\\Users\\DejunChen\\Desktop\\cms-workshop\\data\n",
      "\n",
      "05/08/2019  12:18 PM    <DIR>          .\n",
      "05/08/2019  12:18 PM    <DIR>          ..\n",
      "05/08/2019  12:20 PM               619 benzene.xyz\n",
      "05/08/2019  12:18 PM             2,471 buckminsterfullerene.xyz\n",
      "02/19/2019  10:37 AM           355,359 distance_data_headers.csv\n",
      "05/08/2019  12:14 PM    <DIR>          outfiles\n",
      "02/19/2019  10:29 AM            61,568 sapt.out\n",
      "01/29/2019  04:02 PM               155 water.xyz\n",
      "               5 File(s)        420,172 bytes\n",
      "               3 Dir(s)  174,946,537,472 bytes free\n"
     ]
    }
   ],
   "source": [
    "ls data"
   ]
  },
  {
   "cell_type": "code",
   "execution_count": 7,
   "metadata": {},
   "outputs": [
    {
     "name": "stdout",
     "output_type": "stream",
     "text": [
      "[['O' '0.000000' '-0.007156' '0.965491']\n",
      " ['H1' '-0.000000' '0.001486' '-0.003471']\n",
      " ['H2' '0.000000' '0.931026' '1.207929']]\n"
     ]
    }
   ],
   "source": [
    "import os\n",
    "import numpy\n",
    "file_location = os.path.join('data', 'water.xyz')\n",
    "\n",
    "data = numpy.genfromtxt(fname=file_location, dtype='unicode', skip_header=2)\n",
    "\n",
    "print(data)"
   ]
  },
  {
   "cell_type": "code",
   "execution_count": 8,
   "metadata": {},
   "outputs": [
    {
     "name": "stdout",
     "output_type": "stream",
     "text": [
      "['H2' '0.000000' '0.931026' '1.207929']\n"
     ]
    }
   ],
   "source": [
    "print(data[2])"
   ]
  },
  {
   "cell_type": "code",
   "execution_count": 9,
   "metadata": {},
   "outputs": [
    {
     "name": "stdout",
     "output_type": "stream",
     "text": [
      "[['0.000000' '-0.007156' '0.965491']\n",
      " ['-0.000000' '0.001486' '-0.003471']\n",
      " ['0.000000' '0.931026' '1.207929']]\n"
     ]
    }
   ],
   "source": [
    "data2 = data[:, 1:]\n",
    "print(data2)"
   ]
  },
  {
   "cell_type": "code",
   "execution_count": 10,
   "metadata": {},
   "outputs": [
    {
     "name": "stdout",
     "output_type": "stream",
     "text": [
      "[[ 0.       -0.007156  0.965491]\n",
      " [-0.        0.001486 -0.003471]\n",
      " [ 0.        0.931026  1.207929]]\n"
     ]
    }
   ],
   "source": [
    "data3 = data2.astype(numpy.float)\n",
    "print(data3)"
   ]
  },
  {
   "cell_type": "code",
   "execution_count": 11,
   "metadata": {},
   "outputs": [
    {
     "name": "stdout",
     "output_type": "stream",
     "text": [
      "3\n"
     ]
    }
   ],
   "source": [
    "num_atoms = len(data[:,0])\n",
    "print(num_atoms)"
   ]
  },
  {
   "cell_type": "code",
   "execution_count": 16,
   "metadata": {},
   "outputs": [
    {
     "name": "stdout",
     "output_type": "stream",
     "text": [
      "0\n",
      "0\n",
      "O to O distance is: 0.0\n",
      "0\n",
      "1\n",
      "O to H1 distance is: 0.9690005374652793\n",
      "0\n",
      "2\n",
      "O to H2 distance is: 0.9690003348647513\n",
      "1\n",
      "0\n",
      "H1 to O distance is: 0.9690005374652793\n",
      "1\n",
      "1\n",
      "H1 to H1 distance is: 0.0\n",
      "1\n",
      "2\n",
      "H1 to H2 distance is: 1.52693633514957\n",
      "2\n",
      "0\n",
      "H2 to O distance is: 0.9690003348647513\n",
      "2\n",
      "1\n",
      "H2 to H1 distance is: 1.52693633514957\n",
      "2\n",
      "2\n",
      "H2 to H2 distance is: 0.0\n"
     ]
    }
   ],
   "source": [
    "for i in range(0, num_atoms):\n",
    "    x1, y1, z1 = data3[i, 0], data3[i, 1], data3[i, 2]\n",
    "    for j in range(0, num_atoms):\n",
    "        print(i)\n",
    "        print(j)\n",
    "        x2, y2, z2 = data3[j, 0], data3[j, 1], data3[j, 2]\n",
    "        sqdistance = (x1-x2)**2 + (y1-y2)**2 + (z1-z2)**2\n",
    "        distance = numpy.sqrt(sqdistance)\n",
    "        print(F'{data[i,0]} to {data[j,0]} distance is: {distance}')\n"
   ]
  },
  {
   "cell_type": "code",
   "execution_count": 17,
   "metadata": {},
   "outputs": [
    {
     "name": "stdout",
     "output_type": "stream",
     "text": [
      "0\n",
      "0\n",
      "0\n",
      "1\n",
      "O to H1 distance is: 0.9690005374652793\n",
      "0\n",
      "2\n",
      "O to H2 distance is: 0.9690003348647513\n",
      "1\n",
      "0\n",
      "H1 to O distance is: 0.9690005374652793\n",
      "1\n",
      "1\n",
      "1\n",
      "2\n",
      "H1 to H2 distance is: 1.52693633514957\n",
      "2\n",
      "0\n",
      "H2 to O distance is: 0.9690003348647513\n",
      "2\n",
      "1\n",
      "H2 to H1 distance is: 1.52693633514957\n",
      "2\n",
      "2\n"
     ]
    }
   ],
   "source": [
    "for i in range(0, num_atoms):\n",
    "    x1, y1, z1 = data3[i, 0], data3[i, 1], data3[i, 2]\n",
    "    for j in range(0, num_atoms):\n",
    "        print(i)\n",
    "        print(j)\n",
    "        if i==j: \n",
    "            continue\n",
    "        x2, y2, z2 = data3[j, 0], data3[j, 1], data3[j, 2]\n",
    "        sqdistance = (x1-x2)**2 + (y1-y2)**2 + (z1-z2)**2\n",
    "        distance = numpy.sqrt(sqdistance)\n",
    "        print(F'{data[i,0]} to {data[j,0]} distance is: {distance}')"
   ]
  },
  {
   "cell_type": "code",
   "execution_count": 18,
   "metadata": {},
   "outputs": [
    {
     "name": "stdout",
     "output_type": "stream",
     "text": [
      "0\n",
      "0\n",
      "0\n",
      "1\n",
      "O to H1 distance is: 0.9690005374652793\n",
      "0\n",
      "2\n",
      "O to H2 distance is: 0.9690003348647513\n",
      "1\n",
      "0\n",
      "H1 to O distance is: 0.9690005374652793\n",
      "1\n",
      "1\n",
      "1\n",
      "2\n",
      "H1 to H2 distance is: 1.52693633514957 and no bonding\n",
      "2\n",
      "0\n",
      "H2 to O distance is: 0.9690003348647513\n",
      "2\n",
      "1\n",
      "H2 to H1 distance is: 1.52693633514957 and no bonding\n",
      "2\n",
      "2\n"
     ]
    }
   ],
   "source": [
    "for i in range(0, num_atoms):\n",
    "    x1, y1, z1 = data3[i, 0], data3[i, 1], data3[i, 2]\n",
    "    for j in range(0, num_atoms):\n",
    "        print(i)\n",
    "        print(j)\n",
    "        if i==j: \n",
    "            continue\n",
    "        x2, y2, z2 = data3[j, 0], data3[j, 1], data3[j, 2]\n",
    "        sqdistance = (x1-x2)**2 + (y1-y2)**2 + (z1-z2)**2\n",
    "        distance = numpy.sqrt(sqdistance)\n",
    "        if distance > 1.5:\n",
    "            print(F'{data[i,0]} to {data[j,0]} distance is: {distance} and no bonding')\n",
    "            continue\n",
    "        print(F'{data[i,0]} to {data[j,0]} distance is: {distance}')"
   ]
  },
  {
   "cell_type": "code",
   "execution_count": 20,
   "metadata": {},
   "outputs": [
    {
     "name": "stdout",
     "output_type": "stream",
     "text": [
      "0\n",
      "0\n",
      "O to O is the same atom\n",
      "0\n",
      "1\n",
      "O to H1 distance is: 0.9690005374652793\n",
      "0\n",
      "2\n",
      "O to H2 distance is: 0.9690003348647513\n",
      "1\n",
      "0\n",
      "H1 to O distance is: 0.9690005374652793\n",
      "1\n",
      "1\n",
      "H1 to H1 is the same atom\n",
      "1\n",
      "2\n",
      "H1 to H2 distance is 1.52693633514957 over 1.5 and no bonding\n",
      "2\n",
      "0\n",
      "H2 to O distance is: 0.9690003348647513\n",
      "2\n",
      "1\n",
      "H2 to H1 distance is 1.52693633514957 over 1.5 and no bonding\n",
      "2\n",
      "2\n",
      "H2 to H2 is the same atom\n"
     ]
    }
   ],
   "source": [
    "for i in range(0, num_atoms):\n",
    "    x1, y1, z1 = data3[i, 0], data3[i, 1], data3[i, 2]\n",
    "    for j in range(0, num_atoms):\n",
    "        print(i)\n",
    "        print(j)\n",
    "        if i==j: \n",
    "            print(F'{data[i,0]} to {data[j,0]} is the same atom')\n",
    "            continue\n",
    "        x2, y2, z2 = data3[j, 0], data3[j, 1], data3[j, 2]\n",
    "        sqdistance = (x1-x2)**2 + (y1-y2)**2 + (z1-z2)**2\n",
    "        distance = numpy.sqrt(sqdistance)\n",
    "        if distance > 1.5:\n",
    "            print(F'{data[i,0]} to {data[j,0]} distance is {distance} over 1.5 and no bonding')\n",
    "            continue\n",
    "        print(F'{data[i,0]} to {data[j,0]} distance is: {distance}')"
   ]
  },
  {
   "cell_type": "code",
   "execution_count": 23,
   "metadata": {},
   "outputs": [
    {
     "name": "stdout",
     "output_type": "stream",
     "text": [
      "0\n",
      "0\n",
      "O to O is evaluated other way\n",
      "0\n",
      "1\n",
      "O to H1 distance is: 0.9690005374652793\n",
      "0\n",
      "2\n",
      "O to H2 distance is: 0.9690003348647513\n",
      "1\n",
      "0\n",
      "H1 to O is evaluated other way\n",
      "1\n",
      "1\n",
      "H1 to H1 is evaluated other way\n",
      "1\n",
      "2\n",
      "H1 to H2 distance is 1.52693633514957 over 1.5 and no bonding\n",
      "2\n",
      "0\n",
      "H2 to O is evaluated other way\n",
      "2\n",
      "1\n",
      "H2 to H1 is evaluated other way\n",
      "2\n",
      "2\n",
      "H2 to H2 is evaluated other way\n"
     ]
    }
   ],
   "source": [
    "for i in range(0, num_atoms):\n",
    "    x1, y1, z1 = data3[i, 0], data3[i, 1], data3[i, 2]\n",
    "    for j in range(0, num_atoms):\n",
    "        print(i)\n",
    "        print(j)\n",
    "        if j>i: \n",
    "            x2, y2, z2 = data3[j, 0], data3[j, 1], data3[j, 2]\n",
    "            sqdistance = (x1-x2)**2 + (y1-y2)**2 + (z1-z2)**2\n",
    "            distance = numpy.sqrt(sqdistance)\n",
    "            if distance > 1.5:\n",
    "                print(F'{data[i,0]} to {data[j,0]} distance is {distance} over 1.5 and no bonding')\n",
    "                continue\n",
    "            print(F'{data[i,0]} to {data[j,0]} distance is: {distance}')\n",
    "        else: \n",
    "            print(F'{data[i,0]} to {data[j,0]} is evaluated other way')"
   ]
  },
  {
   "cell_type": "code",
   "execution_count": 26,
   "metadata": {},
   "outputs": [],
   "source": [
    "outfile = open('bond_lengths.txt', 'w+')\n",
    "for i in range(0, num_atoms):\n",
    "    x1, y1, z1 = data3[i, 0], data3[i, 1], data3[i, 2]\n",
    "    for j in range(0, num_atoms):\n",
    "        #print(i)\n",
    "        outfile.write(F'i={i}, j={j} \\n')\n",
    "        #print(j)\n",
    "        if j>i: \n",
    "            x2, y2, z2 = data3[j, 0], data3[j, 1], data3[j, 2]\n",
    "            sqdistance = (x1-x2)**2 + (y1-y2)**2 + (z1-z2)**2\n",
    "            distance = numpy.sqrt(sqdistance)\n",
    "            if distance > 1.5:\n",
    "                outfile.write(F'{data[i,0]} to {data[j,0]} distance is {distance} over 1.5 and no bonding \\n')\n",
    "                #print(F'{data[i,0]} to {data[j,0]} distance is {distance} over 1.5 and no bonding')\n",
    "                continue\n",
    "            outfile.write(F'{data[i,0]} to {data[j,0]} distance is: {distance} \\n')\n",
    "            #print(F'{data[i,0]} to {data[j,0]} distance is: {distance}')\n",
    "        else: \n",
    "            outfile.write(F'{data[i,0]} to {data[j,0]} is evaluated other way \\n')\n",
    "            #print(F'{data[i,0]} to {data[j,0]} is evaluated other way')\n",
    "outfile.close()"
   ]
  },
  {
   "cell_type": "code",
   "execution_count": null,
   "metadata": {},
   "outputs": [],
   "source": []
  }
 ],
 "metadata": {
  "kernelspec": {
   "display_name": "Python 3",
   "language": "python",
   "name": "python3"
  },
  "language_info": {
   "codemirror_mode": {
    "name": "ipython",
    "version": 3
   },
   "file_extension": ".py",
   "mimetype": "text/x-python",
   "name": "python",
   "nbconvert_exporter": "python",
   "pygments_lexer": "ipython3",
   "version": "3.7.3"
  }
 },
 "nbformat": 4,
 "nbformat_minor": 2
}
