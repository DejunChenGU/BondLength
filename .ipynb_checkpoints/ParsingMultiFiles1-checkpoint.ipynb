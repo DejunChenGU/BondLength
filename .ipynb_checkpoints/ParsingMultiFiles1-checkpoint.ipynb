{
 "cells": [
  {
   "cell_type": "code",
   "execution_count": 1,
   "metadata": {},
   "outputs": [
    {
     "name": "stdout",
     "output_type": "stream",
     "text": [
      "data\\outfiles\\*.out\n"
     ]
    }
   ],
   "source": [
    "import os\n",
    "\n",
    "files_location = os.path.join('data', 'outfiles', '*.out')\n",
    "print(files_location)"
   ]
  },
  {
   "cell_type": "code",
   "execution_count": 2,
   "metadata": {},
   "outputs": [
    {
     "name": "stdout",
     "output_type": "stream",
     "text": [
      "['data\\\\outfiles\\\\butanol.out', 'data\\\\outfiles\\\\decanol.out', 'data\\\\outfiles\\\\ethanol.out', 'data\\\\outfiles\\\\heptanol.out', 'data\\\\outfiles\\\\hexanol.out', 'data\\\\outfiles\\\\methanol.out', 'data\\\\outfiles\\\\nonanol.out', 'data\\\\outfiles\\\\octanol.out', 'data\\\\outfiles\\\\pentanol.out', 'data\\\\outfiles\\\\propanol.out']\n"
     ]
    }
   ],
   "source": [
    "import glob\n",
    "\n",
    "filenames = glob.glob(files_location)\n",
    "print(filenames)"
   ]
  },
  {
   "cell_type": "code",
   "execution_count": 6,
   "metadata": {},
   "outputs": [
    {
     "name": "stdout",
     "output_type": "stream",
     "text": [
      "butanol\n",
      "['@DF-RHF', 'Final', 'Energy:', '-232.16557983472831']\n",
      "-232.1655798347283\n",
      "decanol\n",
      "['@DF-RHF', 'Final', 'Energy:', '-466.38362414000858']\n",
      "-466.3836241400086\n",
      "ethanol\n",
      "['@DF-RHF', 'Final', 'Energy:', '-154.09130176573018']\n",
      "-154.09130176573018\n",
      "heptanol\n",
      "['@DF-RHF', 'Final', 'Energy:', '-349.27397687072676']\n",
      "-349.27397687072676\n",
      "hexanol\n",
      "['@DF-RHF', 'Final', 'Energy:', '-310.23853322516328']\n",
      "-310.2385332251633\n",
      "methanol\n",
      "['@DF-RHF', 'Final', 'Energy:', '-115.04800861868374']\n",
      "-115.04800861868374\n",
      "nonanol\n",
      "['@DF-RHF', 'Final', 'Energy:', '-427.34651800828152']\n",
      "-427.3465180082815\n",
      "octanol\n",
      "['@DF-RHF', 'Final', 'Energy:', '-388.31108645547431']\n",
      "-388.3110864554743\n",
      "pentanol\n",
      "['@DF-RHF', 'Final', 'Energy:', '-271.20138119895074']\n",
      "-271.20138119895074\n",
      "propanol\n",
      "['@DF-RHF', 'Final', 'Energy:', '-193.12836249728798']\n",
      "-193.12836249728798\n"
     ]
    }
   ],
   "source": [
    "for f in filenames:\n",
    "    file_name = os.path.basename(f)\n",
    "    file_name_split = file_name.split('.')\n",
    "    mole_name = file_name_split[0]\n",
    "    print(mole_name)\n",
    "    \n",
    "    outfile = open(f, 'r')\n",
    "    data = outfile.readlines()\n",
    "    outfile.close()\n",
    "    for line in data:\n",
    "        if 'Final Energy' in line:\n",
    "            energy_line = line\n",
    "            words = energy_line.split()\n",
    "            print(words)\n",
    "            energy = words[3]\n",
    "            energy = float(energy)\n",
    "            print(energy)"
   ]
  },
  {
   "cell_type": "code",
   "execution_count": 8,
   "metadata": {},
   "outputs": [
    {
     "name": "stdout",
     "output_type": "stream",
     "text": [
      "butanol\n",
      "-232.1655798347283\n",
      "decanol\n",
      "-466.3836241400086\n",
      "ethanol\n",
      "-154.09130176573018\n",
      "heptanol\n",
      "-349.27397687072676\n",
      "hexanol\n",
      "-310.2385332251633\n",
      "methanol\n",
      "-115.04800861868374\n",
      "nonanol\n",
      "-427.3465180082815\n",
      "octanol\n",
      "-388.3110864554743\n",
      "pentanol\n",
      "-271.20138119895074\n",
      "propanol\n",
      "-193.12836249728798\n"
     ]
    }
   ],
   "source": [
    "datafile = open('energies1.txt', 'w+')\n",
    "for f in filenames:\n",
    "    file_name = os.path.basename(f)\n",
    "    file_name_split = file_name.split('.')\n",
    "    mole_name = file_name_split[0]\n",
    "    print(mole_name)\n",
    "    \n",
    "    outfile = open(f, 'r')\n",
    "    data = outfile.readlines()\n",
    "    outfile.close()\n",
    "    for line in data:\n",
    "        if 'Final Energy' in line:\n",
    "            energy_line = line\n",
    "            words = energy_line.split()\n",
    "            energy = words[3]\n",
    "            energy = float(energy)\n",
    "            print(energy)\n",
    "            datafile.write(F'{mole_name} \\t energy: \\t {energy} kcal/mol \\n')\n",
    "datafile.close()"
   ]
  },
  {
   "cell_type": "code",
   "execution_count": null,
   "metadata": {},
   "outputs": [],
   "source": []
  }
 ],
 "metadata": {
  "kernelspec": {
   "display_name": "Python 3",
   "language": "python",
   "name": "python3"
  },
  "language_info": {
   "codemirror_mode": {
    "name": "ipython",
    "version": 3
   },
   "file_extension": ".py",
   "mimetype": "text/x-python",
   "name": "python",
   "nbconvert_exporter": "python",
   "pygments_lexer": "ipython3",
   "version": "3.7.3"
  }
 },
 "nbformat": 4,
 "nbformat_minor": 2
}
