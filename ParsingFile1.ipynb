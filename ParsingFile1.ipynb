{
 "cells": [
  {
   "cell_type": "code",
   "execution_count": 1,
   "metadata": {},
   "outputs": [
    {
     "name": "stdout",
     "output_type": "stream",
     "text": [
      " Volume in drive C is OS\n",
      " Volume Serial Number is C855-57FA\n",
      "\n",
      " Directory of C:\\Users\\DejunChen\\Desktop\\cms-workshop\n",
      "\n",
      "07/30/2019  02:33 PM    <DIR>          .\n",
      "07/30/2019  02:33 PM    <DIR>          ..\n",
      "07/30/2019  02:33 PM    <DIR>          .ipynb_checkpoints\n",
      "05/08/2019  12:18 PM    <DIR>          data\n",
      "07/30/2019  11:29 AM           191,618 data.zip\n",
      "07/30/2019  02:23 PM             1,289 Introduction1.ipynb\n",
      "07/30/2019  12:46 PM             1,577 MyFirstAnacondaNotebook.ipynb\n",
      "07/30/2019  02:33 PM                72 ParsingFile1.ipynb\n",
      "               4 File(s)        194,556 bytes\n",
      "               4 Dir(s)  174,845,747,200 bytes free\n"
     ]
    }
   ],
   "source": [
    "ls"
   ]
  },
  {
   "cell_type": "code",
   "execution_count": 2,
   "metadata": {},
   "outputs": [
    {
     "data": {
      "text/plain": [
       "'C:\\\\Users\\\\DejunChen\\\\Desktop\\\\cms-workshop'"
      ]
     },
     "execution_count": 2,
     "metadata": {},
     "output_type": "execute_result"
    }
   ],
   "source": [
    "pwd"
   ]
  },
  {
   "cell_type": "code",
   "execution_count": 3,
   "metadata": {},
   "outputs": [
    {
     "name": "stdout",
     "output_type": "stream",
     "text": [
      " Volume in drive C is OS\n",
      " Volume Serial Number is C855-57FA\n",
      "\n",
      " Directory of C:\\Users\\DejunChen\\Desktop\\cms-workshop\\data\n",
      "\n",
      "05/08/2019  12:18 PM    <DIR>          .\n",
      "05/08/2019  12:18 PM    <DIR>          ..\n",
      "05/08/2019  12:20 PM               619 benzene.xyz\n",
      "05/08/2019  12:18 PM             2,471 buckminsterfullerene.xyz\n",
      "02/19/2019  10:37 AM           355,359 distance_data_headers.csv\n",
      "05/08/2019  12:14 PM    <DIR>          outfiles\n",
      "02/19/2019  10:29 AM            61,568 sapt.out\n",
      "01/29/2019  04:02 PM               155 water.xyz\n",
      "               5 File(s)        420,172 bytes\n",
      "               3 Dir(s)  174,967,738,368 bytes free\n"
     ]
    }
   ],
   "source": [
    "ls data"
   ]
  },
  {
   "cell_type": "code",
   "execution_count": 4,
   "metadata": {},
   "outputs": [
    {
     "name": "stdout",
     "output_type": "stream",
     "text": [
      " Volume in drive C is OS\n",
      " Volume Serial Number is C855-57FA\n",
      "\n",
      " Directory of C:\\Users\\DejunChen\\Desktop\\cms-workshop\\data\\outfiles\n",
      "\n",
      "05/08/2019  12:14 PM    <DIR>          .\n",
      "05/08/2019  12:14 PM    <DIR>          ..\n",
      "01/18/2019  03:11 PM            12,750 butanol.out\n",
      "01/18/2019  03:11 PM            18,728 decanol.out\n",
      "01/18/2019  03:11 PM            10,639 ethanol.out\n",
      "01/18/2019  03:11 PM            15,770 heptanol.out\n",
      "01/18/2019  03:11 PM            14,767 hexanol.out\n",
      "01/18/2019  03:11 PM             9,719 methanol.out\n",
      "01/18/2019  03:11 PM            17,727 nonanol.out\n",
      "01/18/2019  03:11 PM            16,788 octanol.out\n",
      "01/18/2019  03:11 PM            13,762 pentanol.out\n",
      "01/18/2019  03:11 PM            11,710 propanol.out\n",
      "              10 File(s)        142,360 bytes\n",
      "               2 Dir(s)  174,967,730,176 bytes free\n"
     ]
    }
   ],
   "source": [
    "ls data\\outfiles"
   ]
  },
  {
   "cell_type": "code",
   "execution_count": 5,
   "metadata": {},
   "outputs": [
    {
     "name": "stdout",
     "output_type": "stream",
     "text": [
      "data\\outfiles\\ethanol.out\n",
      "270\n"
     ]
    }
   ],
   "source": [
    "import os\n",
    "\n",
    "ethanol_file=os.path.join('data', 'outfiles','ethanol.out')\n",
    "print(ethanol_file)\n",
    "outfile=open(ethanol_file,'r')\n",
    "data=outfile.readlines()\n",
    "print(len(data))\n",
    "outfile.close()"
   ]
  },
  {
   "cell_type": "code",
   "execution_count": 6,
   "metadata": {},
   "outputs": [
    {
     "name": "stdout",
     "output_type": "stream",
     "text": [
      "data\\outfiles\\ethanol.out\n",
      "270\n"
     ]
    }
   ],
   "source": [
    "import os\n",
    "\n",
    "ethanol_file=os.path.join('data', 'outfiles','ethanol.out')\n",
    "print(ethanol_file)\n",
    "outfile=open(ethanol_file,'r')\n",
    "data=outfile.readlines()\n",
    "print(len(data))"
   ]
  },
  {
   "cell_type": "code",
   "execution_count": 7,
   "metadata": {},
   "outputs": [
    {
     "name": "stdout",
     "output_type": "stream",
     "text": [
      "['\\n', '    -----------------------------------------------------------------------\\n']\n"
     ]
    }
   ],
   "source": [
    "print(data[:2])"
   ]
  },
  {
   "cell_type": "code",
   "execution_count": 8,
   "metadata": {},
   "outputs": [
    {
     "name": "stdout",
     "output_type": "stream",
     "text": [
      "['\\n', '    -----------------------------------------------------------------------\\n', '          Psi4: An Open-Source Ab Initio Electronic Structure Package\\n', '                               Psi4 1.1 release\\n', '\\n', '                         Git: Rev {HEAD} add49b9 \\n', '\\n', '\\n', '    R. M. Parrish, L. A. Burns, D. G. A. Smith, A. C. Simmonett,\\n', '    A. E. DePrince III, E. G. Hohenstein, U. Bozkaya, A. Yu. Sokolov,\\n']\n"
     ]
    }
   ],
   "source": [
    "print(data[:10])"
   ]
  },
  {
   "cell_type": "code",
   "execution_count": 9,
   "metadata": {},
   "outputs": [
    {
     "ename": "NameError",
     "evalue": "name 'energy_line' is not defined",
     "output_type": "error",
     "traceback": [
      "\u001b[1;31m---------------------------------------------------------------------------\u001b[0m",
      "\u001b[1;31mNameError\u001b[0m                                 Traceback (most recent call last)",
      "\u001b[1;32m<ipython-input-9-ca3f578b9450>\u001b[0m in \u001b[0;36m<module>\u001b[1;34m\u001b[0m\n\u001b[0;32m      2\u001b[0m     \u001b[1;32mif\u001b[0m \u001b[1;34m'final energy'\u001b[0m \u001b[1;32min\u001b[0m \u001b[0mline\u001b[0m\u001b[1;33m:\u001b[0m\u001b[1;33m\u001b[0m\u001b[1;33m\u001b[0m\u001b[0m\n\u001b[0;32m      3\u001b[0m         \u001b[0menergy_line\u001b[0m\u001b[1;33m=\u001b[0m\u001b[0mline\u001b[0m\u001b[1;33m\u001b[0m\u001b[1;33m\u001b[0m\u001b[0m\n\u001b[1;32m----> 4\u001b[1;33m     \u001b[0mprint\u001b[0m\u001b[1;33m(\u001b[0m\u001b[0menergy_line\u001b[0m\u001b[1;33m)\u001b[0m\u001b[1;33m\u001b[0m\u001b[1;33m\u001b[0m\u001b[0m\n\u001b[0m\u001b[0;32m      5\u001b[0m     \u001b[0mprint\u001b[0m\u001b[1;33m(\u001b[0m\u001b[0mlen\u001b[0m\u001b[1;33m(\u001b[0m\u001b[0menergy_line\u001b[0m\u001b[1;33m)\u001b[0m\u001b[1;33m)\u001b[0m\u001b[1;33m\u001b[0m\u001b[1;33m\u001b[0m\u001b[0m\n",
      "\u001b[1;31mNameError\u001b[0m: name 'energy_line' is not defined"
     ]
    }
   ],
   "source": [
    "for line in data: \n",
    "    if 'final energy' in line:\n",
    "        energy_line=line\n",
    "    print(energy_line)\n",
    "    print(len(energy_line))"
   ]
  },
  {
   "cell_type": "code",
   "execution_count": 13,
   "metadata": {},
   "outputs": [
    {
     "name": "stdout",
     "output_type": "stream",
     "text": [
      "['\\n', '    -----------------------------------------------------------------------\\n', '          Psi4: An Open-Source Ab Initio Electronic Structure Package\\n']\n"
     ]
    }
   ],
   "source": [
    "print(data[:3])"
   ]
  },
  {
   "cell_type": "code",
   "execution_count": 19,
   "metadata": {},
   "outputs": [
    {
     "name": "stdout",
     "output_type": "stream",
     "text": [
      "  @DF-RHF Final Energy:  -154.09130176573018\n",
      "\n"
     ]
    }
   ],
   "source": [
    "for line in data: \n",
    "    if 'Final Energy' in line: # Capital F.. E...\n",
    "        energy_line=line\n",
    "        print(energy_line)\n",
    "        "
   ]
  },
  {
   "cell_type": "code",
   "execution_count": 20,
   "metadata": {},
   "outputs": [
    {
     "data": {
      "text/plain": [
       "['@DF-RHF', 'Final', 'Energy:', '-154.09130176573018']"
      ]
     },
     "execution_count": 20,
     "metadata": {},
     "output_type": "execute_result"
    }
   ],
   "source": [
    "energy_line.split()"
   ]
  },
  {
   "cell_type": "code",
   "execution_count": 22,
   "metadata": {},
   "outputs": [
    {
     "name": "stdout",
     "output_type": "stream",
     "text": [
      "['@DF-RHF', 'Final', 'Energy:', '-154.09130176573018']\n"
     ]
    }
   ],
   "source": [
    "words=energy_line.split()\n",
    "print(words)"
   ]
  },
  {
   "cell_type": "code",
   "execution_count": 23,
   "metadata": {},
   "outputs": [
    {
     "data": {
      "text/plain": [
       "str"
      ]
     },
     "execution_count": 23,
     "metadata": {},
     "output_type": "execute_result"
    }
   ],
   "source": [
    "energy=words[3]\n",
    "type(energy)"
   ]
  },
  {
   "cell_type": "code",
   "execution_count": 25,
   "metadata": {},
   "outputs": [
    {
     "name": "stdout",
     "output_type": "stream",
     "text": [
      "<class 'float'>\n",
      "-154.09130176573018\n"
     ]
    }
   ],
   "source": [
    "energy=float(energy)\n",
    "print(type(energy))\n",
    "print(energy)"
   ]
  },
  {
   "cell_type": "code",
   "execution_count": 26,
   "metadata": {},
   "outputs": [
    {
     "data": {
      "text/plain": [
       "-104.09130176573018"
      ]
     },
     "execution_count": 26,
     "metadata": {},
     "output_type": "execute_result"
    }
   ],
   "source": [
    "energy + 50"
   ]
  },
  {
   "cell_type": "code",
   "execution_count": 27,
   "metadata": {},
   "outputs": [
    {
     "data": {
      "text/plain": [
       "-154.09130176573018"
      ]
     },
     "execution_count": 27,
     "metadata": {},
     "output_type": "execute_result"
    }
   ],
   "source": [
    "energy"
   ]
  },
  {
   "cell_type": "code",
   "execution_count": 28,
   "metadata": {},
   "outputs": [],
   "source": [
    "outfile.close()"
   ]
  },
  {
   "cell_type": "code",
   "execution_count": 29,
   "metadata": {},
   "outputs": [
    {
     "name": "stdout",
     "output_type": "stream",
     "text": [
      "['\\n']\n"
     ]
    }
   ],
   "source": [
    "print(data[:1])"
   ]
  },
  {
   "cell_type": "code",
   "execution_count": null,
   "metadata": {},
   "outputs": [],
   "source": []
  }
 ],
 "metadata": {
  "kernelspec": {
   "display_name": "Python 3",
   "language": "python",
   "name": "python3"
  },
  "language_info": {
   "codemirror_mode": {
    "name": "ipython",
    "version": 3
   },
   "file_extension": ".py",
   "mimetype": "text/x-python",
   "name": "python",
   "nbconvert_exporter": "python",
   "pygments_lexer": "ipython3",
   "version": "3.7.3"
  }
 },
 "nbformat": 4,
 "nbformat_minor": 2
}
